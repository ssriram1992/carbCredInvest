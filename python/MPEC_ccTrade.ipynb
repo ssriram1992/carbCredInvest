{
 "cells": [
  {
   "cell_type": "code",
   "execution_count": 2,
   "metadata": {},
   "outputs": [],
   "source": [
    "%load_ext autoreload\n",
    "%autoreload 2\n",
    "from EPECinterface import *\n",
    "from gurobipy import *\n",
    "import itertools\n",
    "import csv"
   ]
  },
  {
   "cell_type": "markdown",
   "metadata": {},
   "source": [
    "## Sets"
   ]
  },
  {
   "cell_type": "code",
   "execution_count": 3,
   "metadata": {},
   "outputs": [],
   "source": [
    "dirty = [\"coal\", \"gas\"]\n",
    "green = [\"wind\", \"solar\"]\n",
    "\n",
    "countries = [\"c1\", \"c2\"]\n",
    "producers = [\"p1_1\", \"p1_2\", \"p2_1\", \"p2_2\"]\n",
    "\n",
    "domesticity = tuplelist([(\"c1\",\"p1_1\"), (\"c1\",\"p1_2\"),\n",
    "               (\"c2\",\"p2_1\"), (\"c2\",\"p2_2\")\n",
    "              ])\n",
    "\n",
    "scenario = [\"s\"+str(i+1) for i in range(2\n",
    "                                       )]\n",
    "\n",
    "data = inputData(dirty, green, countries, producers, domesticity, scenario)"
   ]
  },
  {
   "cell_type": "markdown",
   "metadata": {},
   "source": [
    "## Loading Example data"
   ]
  },
  {
   "cell_type": "code",
   "execution_count": 4,
   "metadata": {},
   "outputs": [
    {
     "data": {
      "text/plain": [
       "INSTANCE OF EPECinterface.inputData\n",
       "***********************************\n",
       "\n",
       "dirty ---------- ['coal', 'gas']\n",
       "\n",
       "green ---------- ['wind', 'solar']\n",
       "\n",
       "energy ---------- ['coal', 'gas', 'wind', 'solar']\n",
       "\n",
       "countries ---------- ['c1', 'c2']\n",
       "\n",
       "producers ---------- ['p1_1', 'p1_2', 'p2_1', 'p2_2']\n",
       "\n",
       "domesticity ---------- <gurobi.tuplelist (4 tuples, 2 values each):\n",
       " ( c1 , p1_1 )\n",
       " ( c1 , p1_2 )\n",
       " ( c2 , p2_1 )\n",
       " ( c2 , p2_2 )\n",
       ">\n",
       "\n",
       "scenario ---------- ['s1', 's2']\n",
       "\n",
       "LinInvCost ---------- {('p1_1', 'wind'): 15, ('p1_1', 'solar'): 25, ('p1_2', 'wind'): 15, ('p1_2', 'solar'): 25, ('p2_1', 'wind'): 15, ('p2_1', 'solar'): 25, ('p2_2', 'wind'): 15, ('p2_2', 'solar'): 25}\n",
       "\n",
       "QuadInvCost ---------- {('p1_1', 'wind'): 1, ('p1_1', 'solar'): 4, ('p1_2', 'wind'): 1, ('p1_2', 'solar'): 4, ('p2_1', 'wind'): 1, ('p2_1', 'solar'): 4, ('p2_2', 'wind'): 1, ('p2_2', 'solar'): 4}\n",
       "\n",
       "LinProdCost ---------- {('p1_1', 'coal'): 4, ('p1_1', 'gas'): 6, ('p1_1', 'wind'): 0, ('p1_1', 'solar'): 0, ('p1_2', 'coal'): 4, ('p1_2', 'gas'): 6, ('p1_2', 'wind'): 0, ('p1_2', 'solar'): 0, ('p2_1', 'coal'): 4, ('p2_1', 'gas'): 6, ('p2_1', 'wind'): 0, ('p2_1', 'solar'): 0, ('p2_2', 'coal'): 4, ('p2_2', 'gas'): 6, ('p2_2', 'wind'): 0, ('p2_2', 'solar'): 0}\n",
       "\n",
       "QuadProdCost ---------- {('p1_1', 'coal'): 0.2, ('p1_1', 'gas'): 0.2, ('p1_1', 'wind'): 0, ('p1_1', 'solar'): 0, ('p1_2', 'coal'): 0.2, ('p1_2', 'gas'): 0.2, ('p1_2', 'wind'): 0, ('p1_2', 'solar'): 0, ('p2_1', 'coal'): 0.2, ('p2_1', 'gas'): 0.2, ('p2_1', 'wind'): 0, ('p2_1', 'solar'): 0, ('p2_2', 'coal'): 0.2, ('p2_2', 'gas'): 0.2, ('p2_2', 'wind'): 0, ('p2_2', 'solar'): 0}\n",
       "\n",
       "CapacityFactor ---------- {('p1_1', 'wind', 's1'): 0.4, ('p1_1', 'wind', 's2'): 0.6, ('p1_1', 'solar', 's1'): 0.6, ('p1_1', 'solar', 's2'): 0.4, ('p1_2', 'wind', 's1'): 0.4, ('p1_2', 'wind', 's2'): 0.6, ('p1_2', 'solar', 's1'): 0.6, ('p1_2', 'solar', 's2'): 0.4, ('p2_1', 'wind', 's1'): 0.4, ('p2_1', 'wind', 's2'): 0.6, ('p2_1', 'solar', 's1'): 0.6, ('p2_1', 'solar', 's2'): 0.4, ('p2_2', 'wind', 's1'): 0.4, ('p2_2', 'wind', 's2'): 0.6, ('p2_2', 'solar', 's1'): 0.6, ('p2_2', 'solar', 's2'): 0.4}\n",
       "\n",
       "InitCapacity ---------- {('p1_1', 'coal'): 200, ('p1_1', 'gas'): 200, ('p1_1', 'wind'): 20, ('p1_1', 'solar'): 20, ('p1_2', 'coal'): 200, ('p1_2', 'gas'): 200, ('p1_2', 'wind'): 20, ('p1_2', 'solar'): 20, ('p2_1', 'coal'): 200, ('p2_1', 'gas'): 200, ('p2_1', 'wind'): 20, ('p2_1', 'solar'): 20, ('p2_2', 'coal'): 200, ('p2_2', 'gas'): 200, ('p2_2', 'wind'): 20, ('p2_2', 'solar'): 20}\n",
       "\n",
       "InitCredits ---------- {'p1_1': 100, 'p1_2': 100, 'p2_1': 100, 'p2_2': 100}\n",
       "\n",
       "Emission ---------- {'coal': 3, 'gas': 2, 'wind': 0, 'solar': 0}\n",
       "\n",
       "DemInt ---------- {('c1', 's1'): 800, ('c1', 's2'): 1200, ('c2', 's1'): 1200, ('c2', 's2'): 800}\n",
       "\n",
       "DemSlope ---------- {('c1', 's1'): 1, ('c1', 's2'): 1, ('c2', 's1'): 1, ('c2', 's2'): 1}\n",
       "\n",
       "InitLeaderCredits ---------- {'c1': 200, 'c2': 200}\n",
       "\n",
       "minCons ---------- {'c1': 0, 'c2': 0}\n",
       "\n",
       "InvestValue ---------- {('c1', 'wind'): 0, ('c1', 'solar'): 0, ('c2', 'wind'): 0, ('c2', 'solar'): 0}\n",
       "\n",
       "InvestCrossValue ---------- {('c1', 'wind'): 0, ('c1', 'solar'): 0, ('c2', 'wind'): 0, ('c2', 'solar'): 0}\n",
       "\n",
       "EmissionValue ---------- {'c1': 0, 'c2': 0}\n",
       "\n",
       "EmissionValueQuad ---------- {'c1': 0, 'c2': 0}\n",
       "\n",
       "EmissionCrossValue ---------- {'c1': 0, 'c2': 0}\n",
       "\n",
       "probability ---------- {'s1': 0.5, 's2': 0.5}\n"
      ]
     },
     "execution_count": 4,
     "metadata": {},
     "output_type": "execute_result"
    }
   ],
   "source": [
    "dataBase = [15 ,25 ,15 ,25 ,15 ,25 ,15 ,25 ,1 ,4 ,1 ,4 ,1 ,4 ,1 ,4 ,4 ,6 ,0 ,0 ,4 ,6 ,0 ,0 ,4 ,6 ,0 ,0 ,4 ,6 ,0 ,0 ,0.2 ,0.2 ,0 ,0 ,0.2 ,0.2 ,0 ,0 ,0.2 ,0.2 ,0 ,0 ,0.2 ,0.2 ,0 ,0 ,0.4 ,0.6 ,0.6 ,0.4 ,0.4 ,0.6 ,0.6 ,0.4 ,0.4 ,0.6 ,0.6 ,0.4 ,0.4 ,0.6 ,0.6 ,0.4 ,200 ,200 ,20 ,20 ,200 ,200 ,20 ,20 ,200 ,200 ,20 ,20 ,200 ,200 ,20 ,20 ,100 ,100 ,100 ,100 ,3 ,2 ,0 ,0 ,800 ,1200 ,1200 ,800 ,1 ,1 ,1 ,1 ,200 ,200 ,0 ,0 ,0 ,0 ,0 ,0 ,0 ,0 ,0 ,0 ,0 ,0 ,0 ,0 ,0 ,0]\n",
    "data.buildFromList(dataBase)\n",
    "data"
   ]
  },
  {
   "cell_type": "code",
   "execution_count": 4,
   "metadata": {},
   "outputs": [
    {
     "data": {
      "text/plain": [
       "15"
      ]
     },
     "execution_count": 4,
     "metadata": {},
     "output_type": "execute_result"
    }
   ],
   "source": [
    "mylist = readInputFromFile(\"inputs.csv\")\n",
    "len(mylist)"
   ]
  },
  {
   "cell_type": "code",
   "execution_count": 5,
   "metadata": {},
   "outputs": [],
   "source": [
    "baseData = mylist[0]\n",
    "data = inputData(dirty, green, countries, producers, domesticity, scenario)\n",
    "data.buildFromList(baseData)"
   ]
  },
  {
   "cell_type": "code",
   "execution_count": 58,
   "metadata": {},
   "outputs": [
    {
     "data": {
      "text/plain": [
       "<gurobi.Model Continuous instance infeasModel: 3 constrs, 3 vars, No parameter changes>"
      ]
     },
     "execution_count": 58,
     "metadata": {},
     "output_type": "execute_result"
    }
   ],
   "source": [
    "M = Model(\"infeasModel\")\n",
    "x = M.addVar(name=\"x\")\n",
    "y = M.addVar(name=\"x\")\n",
    "z = M.addVar(name=\"x\")\n",
    "M.addConstr(x+y == 3)\n",
    "M.addConstr(y+z == 3)\n",
    "M.addConstr(x+2*y+z <= 5)\n",
    "M.update()\n",
    "M"
   ]
  },
  {
   "cell_type": "code",
   "execution_count": 68,
   "metadata": {},
   "outputs": [
    {
     "data": {
      "text/plain": [
       "'1_5_6_-1'"
      ]
     },
     "execution_count": 68,
     "metadata": {},
     "output_type": "execute_result"
    }
   ],
   "source": [
    "\"_\".join( [str(s) for s in (1,5,6,-1)] )"
   ]
  },
  {
   "cell_type": "code",
   "execution_count": 259,
   "metadata": {},
   "outputs": [],
   "source": [
    "solution = solveMPECs(mylist)"
   ]
  },
  {
   "cell_type": "code",
   "execution_count": null,
   "metadata": {},
   "outputs": [],
   "source": [
    "with open(\"output.txt\",\"w\") as file:\n",
    "    for vals in solution:\n",
    "        file.write(\",\".join([str(vv) for vv in vals]))\n",
    "        file.write('\\n')"
   ]
  },
  {
   "cell_type": "code",
   "execution_count": 3,
   "metadata": {},
   "outputs": [
    {
     "name": "stdout",
     "output_type": "stream",
     "text": [
      "Using license file /home/sriram/gurobi.lic\n",
      "Academic license - for non-commercial use only\n"
     ]
    }
   ],
   "source": [
    "M = Model()\n"
   ]
  },
  {
   "cell_type": "code",
   "execution_count": 7,
   "metadata": {},
   "outputs": [
    {
     "name": "stdout",
     "output_type": "stream",
     "text": [
      "[1, 2, 3] [1, 24, 3]\n"
     ]
    }
   ],
   "source": [
    "a = [1,2,3]\n",
    "b = a.copy()\n",
    "b[1]=24\n",
    "print(a,b)"
   ]
  },
  {
   "cell_type": "code",
   "execution_count": null,
   "metadata": {},
   "outputs": [],
   "source": [
    "\n"
   ]
  },
  {
   "cell_type": "markdown",
   "metadata": {},
   "source": [
    "# Production zone"
   ]
  },
  {
   "cell_type": "code",
   "execution_count": 46,
   "metadata": {},
   "outputs": [],
   "source": [
    "dataBase = [15 ,25 ,15 ,25 ,15 ,25 ,15 ,25 ,1 ,4 ,1 ,4 ,1 ,4 ,1 ,4 ,4 ,6 ,0 ,0 ,4 ,6 ,0 ,0 ,4 ,6 ,0 ,0 ,4 ,6 ,0 ,0 ,0.2 ,0.2 ,0 ,0 ,0.2 ,0.2 ,0 ,0 ,0.2 ,0.2 ,0 ,0 ,0.2 ,0.2 ,0 ,0 ,0.4 ,0.6 ,0.6 ,0.4 ,0.4 ,0.6 ,0.6 ,0.4 ,0.4 ,0.6 ,0.6 ,0.4 ,0.4 ,0.6 ,0.6 ,0.4 ,200 ,200 ,20 ,20 ,200 ,200 ,20 ,20 ,200 ,200 ,20 ,20 ,200 ,200 ,20 ,20 ,100 ,100 ,100 ,100 ,3 ,2 ,0 ,0 ,800 ,1200 ,1200 ,800 ,1 ,1 ,1 ,1 ,200 ,200 ,0 ,0 ,0 ,0 ,0 ,0 ,0 ,0 ,0 ,0 ,0 ,0 ,0 ,0 ,0 ,0]\n",
    "\n",
    "def invSubsidy(data,scen):\n",
    "    \"\"\"\n",
    "    Subsidy scenario\n",
    "    \n",
    "    PARAMETERS\n",
    "    data: \n",
    "        inputData objecti\n",
    "    scen:\n",
    "        -1 or 0 or 1 implying low, medium or high subsidy\n",
    "    \"\"\"\n",
    "    fact = (scen + 1)*1.0\n",
    "    for xx in data.LinInvCost:\n",
    "        data.LinInvCost[xx] = data.LinInvCost[xx]*(1 - fact*5/100)\n",
    "        data.QuadInvCost[xx] = data.LinInvCost[xx]*(1 - fact*5/100)\n",
    "    return data\n",
    "\n",
    "def demSlope(data, scen):\n",
    "    \"\"\"\n",
    "    Demand Slope altering scenario\n",
    "    \n",
    "    PARAMETERS\n",
    "    data: \n",
    "        inputData objecti\n",
    "    scen:\n",
    "        -1 or 0 or 1 implying low, medium or high demand Slope\n",
    "    \"\"\"\n",
    "    fact = 0.1*scen\n",
    "    for xx in data.DemSlope:\n",
    "        data.DemSlope[xx] = data.DemSlope[xx]*(1 + fact)\n",
    "        data.QuadInvCost[xx] = data.DemSlope[xx]*(1 + fact)\n",
    "    return data\n",
    "\n",
    "def stdDevnCapFac(data, scen):\n",
    "    \"\"\"\n",
    "    Standard deviation of the capacity factor in scenarios\n",
    "    \n",
    "    PARAMETERS\n",
    "    data: \n",
    "        inputData objecti\n",
    "    scen:\n",
    "        -1 or 0 or 1 implying low, medium or high capacity factors\n",
    "    \n",
    "    WARNING\n",
    "        Only works for 2 scenario programs\n",
    "    \"\"\"\n",
    "    fact = 0.1*(2+scen)\n",
    "    for cc in data.producers:\n",
    "        data.DemSlope[pp, 'wind','s1'] = 0.5 - fact\n",
    "        data.DemSlope[pp, 'slope','s1'] = 0.5 + fact\n",
    "        data.DemSlope[pp, 'wind','s2'] = 0.5 + fact\n",
    "        data.DemSlope[pp, 'slope','s2'] = 0.5 - fact\n",
    "    return data\n",
    "\n",
    "def emmInv(data, scen, cc):\n",
    "    fact = scen + 1\n",
    "    data.EmissionValue[cc] = 10 + fact*40\n",
    "    data.EmissionValueQuad[cc] = 1 + fact*2\n",
    "    data.InvestValue[cc, \"solar\"] =25 + 50*fact \n",
    "    data.InvestValue[cc, \"wind\"] = 5 + 20*fact\n",
    "    return data\n",
    "\n",
    "def emmInvc1(data, scen):\n",
    "    return emmInv(data, scen, \"c1\")\n",
    "\n",
    "def emmInvc2(data, scen):\n",
    "    return emmInv(data, scen, \"c2\")\n",
    "\n",
    "def crossCoeff(data, scen, cc):\n",
    "    if scen == -1:\n",
    "        data.EmissionCrossValue[cc] = 0\n",
    "        for ee in data.green:\n",
    "            data.InvestCrossValue[cc,ee] = 0\n",
    "        return data\n",
    "    data.EmissionCrossValue[cc] = data.EmissionValueQuad[cc]*(1+scen)\n",
    "    data.InvestCrossValue[cc,\"wind\"] = data.InvestValue[cc,\"wind\"]*(1+scen)/200\n",
    "    data.InvestCrossValue[cc,\"solar\"] = data.InvestValue[cc,\"solar\"]*(1+scen)/40\n",
    "    \n",
    "def crossCoeffc1(data, scen):\n",
    "    return crossCoeff(data, scen, \"c1\")\n",
    "\n",
    "def crossCoeffc2(data, scen):\n",
    "    return crossCoeff(data, scen, \"c2\")"
   ]
  }
 ],
 "metadata": {
  "kernelspec": {
   "display_name": "Python 3",
   "language": "python",
   "name": "python3"
  },
  "language_info": {
   "codemirror_mode": {
    "name": "ipython",
    "version": 3
   },
   "file_extension": ".py",
   "mimetype": "text/x-python",
   "name": "python",
   "nbconvert_exporter": "python",
   "pygments_lexer": "ipython3",
   "version": "3.7.6"
  }
 },
 "nbformat": 4,
 "nbformat_minor": 2
}
