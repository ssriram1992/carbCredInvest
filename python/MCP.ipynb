{
 "cells": [
  {
   "cell_type": "code",
   "execution_count": 93,
   "metadata": {},
   "outputs": [
    {
     "name": "stdout",
     "output_type": "stream",
     "text": [
      "The autoreload extension is already loaded. To reload it, use:\n",
      "  %reload_ext autoreload\n"
     ]
    }
   ],
   "source": [
    "%load_ext autoreload\n",
    "%autoreload 2\n",
    "from EPECinterface import *\n",
    "from gurobipy import *\n",
    "import itertools\n",
    "import csv"
   ]
  },
  {
   "cell_type": "code",
   "execution_count": 94,
   "metadata": {},
   "outputs": [],
   "source": [
    "def printVars(vv, prefix = \"\", tol=1e-6):\n",
    "    for vvv in vv:\n",
    "        if abs(vv[vvv].X) >= tol:\n",
    "            print(prefix,vvv,\"\\t---\\t\",vv[vvv].X)"
   ]
  },
  {
   "cell_type": "markdown",
   "metadata": {},
   "source": [
    "# Sets"
   ]
  },
  {
   "cell_type": "code",
   "execution_count": 109,
   "metadata": {},
   "outputs": [],
   "source": [
    "dirty = [\"coal\", \"gas\"]\n",
    "green = [\"wind\", \"solar\"]\n",
    "\n",
    "countries = [\"c1\", \"c2\"]\n",
    "producers = [\"p1_1\", \"p1_2\", \"p2_1\", \"p2_2\"]\n",
    "\n",
    "domesticity = tuplelist([(\"c1\",\"p1_1\"), (\"c1\",\"p1_2\"),\n",
    "               (\"c2\",\"p2_1\"), (\"c2\",\"p2_2\")\n",
    "              ])\n",
    "\n",
    "scenario = [\"s\"+str(i+1) for i in range(1\n",
    "                                       )]\n",
    "\n",
    "data = inputData(dirty, green, countries, producers, domesticity, scenario)"
   ]
  },
  {
   "cell_type": "code",
   "execution_count": 142,
   "metadata": {},
   "outputs": [],
   "source": [
    "# mylist = readInputFromFile(\"inputs.csv\")\n",
    "# baseData = mylist[0]\n",
    "data = inputData(dirty, green, countries, producers, domesticity, scenario)\n",
    "data.buildFromList([0 for i in range(114)])\n",
    "data.probability = {ss:1/len(data.scenario) for ss in data.scenario}"
   ]
  },
  {
   "cell_type": "markdown",
   "metadata": {},
   "source": [
    "### Uneditables"
   ]
  },
  {
   "cell_type": "code",
   "execution_count": 184,
   "metadata": {},
   "outputs": [],
   "source": [
    "# Capacity factor\n",
    "for pp,ss in itertools.product(data.producers, data.scenario):\n",
    "    data.CapacityFactor[pp,'wind',ss] = 0.348\n",
    "    data.CapacityFactor[pp,'solar',ss] = 0.245\n",
    "\n",
    "# Emission factor\n",
    "data.Emission['coal'] = 0.76\n",
    "data.Emission['gas'] = 0.36 \n",
    "data.Emission['solar'] = 0 \n",
    "data.Emission['wind'] = 0\n",
    "\n",
    "# Uninteresting stuff\n",
    "for pp in data.producers:\n",
    "    data.InitCredits[pp] = 0\n",
    "for vv in data.InitLeaderCredits:\n",
    "    data.InitLeaderCredits[vv] = 0\n",
    "for vv in data.InvestValue:\n",
    "    data.InvestValue[vv] = 0\n",
    "for vv in data.InvestCrossValue:\n",
    "    data.InvestCrossValue[vv] = 0\n",
    "for vv in data.EmissionValue:\n",
    "    data.EmissionValue[vv] = 0\n",
    "for vv in data.EmissionValueQuad:\n",
    "    data.EmissionValueQuad[vv] = 0\n",
    "for vv in data.EmissionCrossValue:\n",
    "    data.EmissionCrossValue[vv] = 0"
   ]
  },
  {
   "cell_type": "markdown",
   "metadata": {},
   "source": [
    "### Editables"
   ]
  },
  {
   "cell_type": "code",
   "execution_count": 185,
   "metadata": {},
   "outputs": [],
   "source": [
    "# supplyIntercept and supplySlope\n",
    "data.cciInt = 20\n",
    "data.cciSlope = 0.0\n",
    "# Demand intercept and slope\n",
    "for cc,ss in itertools.product(data.countries, data.scenario):\n",
    "    data.DemInt[cc,ss] = 200\n",
    "    data.DemSlope[cc,ss] = 0.026\n",
    "\n",
    "# Production costs\n",
    "for pp in data.producers:\n",
    "    data.LinProdCost[pp, 'coal'] = 42\n",
    "    data.LinProdCost[pp, 'gas'] = 37\n",
    "    data.LinProdCost[pp, 'solar'] = 0\n",
    "    data.LinProdCost[pp, 'wind'] = 0\n",
    "    #\n",
    "    data.QuadProdCost[pp, 'coal'] = 0.0075\n",
    "    data.QuadProdCost[pp, 'gas'] = 0.0095\n",
    "    data.QuadProdCost[pp, 'solar'] = 0\n",
    "    data.QuadProdCost[pp, 'wind'] = 0\n",
    "# Investment cost\n",
    "for pp in data.producers:\n",
    "    data.LinInvCost[pp, 'solar'] = 4\n",
    "    data.LinInvCost[pp, 'wind'] = 6.5\n",
    "    #\n",
    "    data.QuadInvCost[pp, 'solar'] = 0.004\n",
    "    data.QuadInvCost[pp, 'wind'] = 0.016\n",
    "    \n",
    "# Capacity\n",
    "data.InitCapacity[('p1_1','coal')] = 500\n",
    "data.InitCapacity[('p1_1','gas')] = 850\n",
    "data.InitCapacity[('p1_1','solar')] = 227.23\n",
    "data.InitCapacity[('p1_1','wind')] = 428.65\n",
    "\n",
    "data.InitCapacity[('p1_2','coal')] = 500\n",
    "data.InitCapacity[('p1_2','gas')] = 850\n",
    "data.InitCapacity[('p1_2','solar')] = 227.23\n",
    "data.InitCapacity[('p1_2','wind')] = 428.65\n",
    "\n",
    "data.InitCapacity[('p2_1','coal')] = 500\n",
    "data.InitCapacity[('p2_1','gas')] = 850\n",
    "data.InitCapacity[('p2_1','solar')] = 227.23\n",
    "data.InitCapacity[('p2_1','wind')] = 428.65\n",
    "\n",
    "data.InitCapacity[('p2_2','coal')] = 500\n",
    "data.InitCapacity[('p2_2','gas')] = 850\n",
    "data.InitCapacity[('p2_2','solar')] = 227.23\n",
    "data.InitCapacity[('p2_2','wind')] = 428.65\n",
    "\n"
   ]
  },
  {
   "cell_type": "markdown",
   "metadata": {},
   "source": [
    "# Complementarity Problem Formulation"
   ]
  },
  {
   "cell_type": "code",
   "execution_count": 203,
   "metadata": {},
   "outputs": [
    {
     "name": "stdout",
     "output_type": "stream",
     "text": [
      "Changed value of parameter AggFill to 0\n",
      "   Prev: -1  Min: -1  Max: 2000000000  Default: -1\n",
      "Changed value of parameter Threads to 2\n",
      "   Prev: 0  Min: 0  Max: 1024  Default: 0\n"
     ]
    }
   ],
   "source": [
    "## Variables\n",
    "\n",
    "M = Model()\n",
    "# ## Variables\n",
    "# ### Follower Variables \n",
    "PRODUCTION = M.addVars(data.producers, data.energy, data.scenario, vtype=GRB.CONTINUOUS, name = \"PROD\")\n",
    "INVESTMENT = M.addVars(data.producers, data.energy, vtype=GRB.CONTINUOUS, name = \"INV\") \n",
    "FOLL_CARB_BUY = M.addVars(data.producers, lb = -GRB.INFINITY, name = \"FOLL_CARB_BUY\")\n",
    "\n",
    "### All data.dirty investments must be 0 \n",
    "for ee in data.dirty:\n",
    "    for x in INVESTMENT.select(\"*\",ee):\n",
    "        x.ub = 0\n",
    "        \n",
    "# ### Leader Variables \n",
    "TOTAL_INV = M.addVars(data.countries, data.energy, name = \"TOTAL_INV\")\n",
    "TOTAL_EMIT = M.addVars(data.countries, data.scenario, name = \"TOTAL_EMIT\")\n",
    "C_PROD = M.addVars(data.countries, data.scenario, name=\"C_PROD\")\n",
    "\n",
    "# ### Duals \n",
    "D_INFRALIMIT = M.addVars(data.producers, data.energy, data.scenario,name = \"D_INFRA\")\n",
    "D_EMITLIMIT = M.addVars(data.producers, data.scenario, name = \"D_EMIT\")\n",
    "\n",
    "## Constraints\n",
    "\n",
    "# Constraints\n",
    "# ### Follower KKT conditions \n",
    "\n",
    "# eq_infraLimit\n",
    "for pp,ee,ss in itertools.product(data.producers,data.energy,data.scenario):\n",
    "    eqn = 0\n",
    "    if ee in data.green:\n",
    "        eqn = data.CapacityFactor[pp, ee, ss]*(INVESTMENT[pp,ee]+data.InitCapacity[pp, ee]) - PRODUCTION[pp, ee, ss]\n",
    "    else:\n",
    "        eqn = INVESTMENT[pp,ee]+data.InitCapacity[pp, ee]- PRODUCTION[pp, ee, ss]\n",
    "    addComplementarity(M, D_INFRALIMIT[pp,ee,ss], eqn, name = \"eq_infraLimit\"+\"_\".join([pp,ee,ss]))\n",
    "\n",
    "# eq_emitLimit\n",
    "for pp,ss in itertools.product(data.producers, data.scenario):\n",
    "    eqn = data.InitCredits[pp] + FOLL_CARB_BUY[pp] - quicksum(data.Emission[ee]*PRODUCTION[pp,ee,ss] for ee in data.dirty)\n",
    "    addComplementarity(M, D_EMITLIMIT[pp,ss], eqn,name = \"eq_emitLimit\"+\"_\".join([pp,ss]))\n",
    "    \n",
    "\n",
    "# eq_countryProduction\n",
    "for ss in data.scenario:\n",
    "    for cc in data.countries:\n",
    "        eqn = 0\n",
    "        for pp in data.producers:\n",
    "            if (cc,pp) in data.domesticity:\n",
    "                eqn = eqn + quicksum(PRODUCTION[pp,ee,ss] for ee  in data.energy)\n",
    "        M.addConstr(eqn == C_PROD[cc,ss], name=\"eq_countryProduction\"+\"_\".join([cc,ss]))\n",
    "\n",
    "# eq_production\n",
    "for pp,ee,ss in itertools.product(data.producers,data.energy,data.scenario):\n",
    "    eqn = data.probability[ss]*(\n",
    "        data.LinProdCost[pp,ee] + data.QuadProdCost[pp,ee]*PRODUCTION[pp,ee,ss] -\n",
    "        quicksum(data.DemInt[cc[0],ss] - data.DemSlope[cc[0],ss]*C_PROD[cc[0],ss] for cc in data.domesticity.select(\"*\",pp)) +\n",
    "        quicksum(data.DemSlope[cc[0],ss]*PRODUCTION[pp,ee2,ss] for cc in data.domesticity.select(\"*\",pp) for ee2 in data.energy) \n",
    "    )+  D_INFRALIMIT[pp,ee,ss] + data.Emission[ee]*D_EMITLIMIT[pp,ss]\n",
    "\n",
    "    addComplementarity(M, PRODUCTION[pp,ee,ss],eqn,name = \"eq_PRODUCTION\"+\"_\".join([pp,ee,ss]))\n",
    "                       \n",
    "# eq_investment\n",
    "for pp,ee in itertools.product(data.producers,data.green):\n",
    "    eqn = data.LinInvCost[pp,ee] + data.QuadInvCost[pp,ee]*INVESTMENT[pp,ee] - quicksum(data.CapacityFactor[pp,ee,ss]*D_INFRALIMIT[pp,ee,ss] for ss in data.scenario)\n",
    "    addComplementarity(M, INVESTMENT[pp,ee], eqn,name = \"eq_INVESTMENT\"+\"_\".join([pp,ee]))\n",
    "\n",
    "# eq_carbonPurchase\n",
    "for pp in data.producers:\n",
    "    eqn = data.cciInt + data.cciSlope*FOLL_CARB_BUY.sum('*')  + data.cciSlope*FOLL_CARB_BUY[pp] -D_EMITLIMIT.sum(pp,'*')\n",
    "    addComplementarity(M, FOLL_CARB_BUY[pp], eqn, name = \"eq_carbonPurchase\"+str(pp))\n",
    "\n",
    "# Total data.Emission\n",
    "for ss in data.scenario:\n",
    "    eqn = {cc:0 for cc in data.countries}\n",
    "    for (cc,pp) in data.domesticity:\n",
    "        eqn[cc] = eqn[cc] + quicksum(data.Emission[ee]*PRODUCTION[pp,ee,ss] for ee in data.energy)\n",
    "    M.addConstrs((TOTAL_EMIT[cc,ss] - eqn[cc]==0 for cc in data.countries), name=\"TotalEmission\"+str(ss))\n",
    "\n",
    "# Total data.Investment\n",
    "for ee in data.green:\n",
    "    eqn = {cc:0 for cc in data.countries}\n",
    "    for (cc,pp) in data.domesticity:\n",
    "        eqn[cc] = eqn[cc] + INVESTMENT[pp,ee] \n",
    "    M.addConstrs((TOTAL_INV[cc,ee] - eqn[cc]==0 for cc in data.countries), name=\"TotalInv\"+\"_\".join([cc,ee]))\n",
    "\n",
    "# M.Params.Heuristics=0\n",
    "M.Params.AggFill=0\n",
    "# M.Params.CutPasses=1\n",
    "# M.Params.Presolve = 2\n",
    "# M.Params.CutPasses = 1\n",
    "# M.Params.PreQLinearize = 1\n",
    "M.Params.Threads = 2\n",
    "M.update()\n"
   ]
  },
  {
   "cell_type": "code",
   "execution_count": 204,
   "metadata": {},
   "outputs": [
    {
     "name": "stdout",
     "output_type": "stream",
     "text": [
      "Gurobi Optimizer version 9.0.1 build v9.0.1rc0 (linux64)\n",
      "Optimize a model with 56 rows, 116 columns and 208 nonzeros\n",
      "Model fingerprint: 0x501bc586\n",
      "Model has 96 general constraints\n",
      "Variable types: 68 continuous, 48 integer (48 binary)\n",
      "Coefficient statistics:\n",
      "  Matrix range     [4e-03, 1e+00]\n",
      "  Objective range  [1e+00, 1e+00]\n",
      "  Bounds range     [1e+00, 1e+00]\n",
      "  RHS range        [4e+00, 8e+02]\n",
      "Warning for adding constraints: zero or small (< 1e-13) coefficients, ignored\n",
      "Presolve removed 7 rows and 59 columns\n",
      "Presolve time: 0.17s\n",
      "Presolved: 49 rows, 57 columns, 163 nonzeros\n",
      "Presolved model has 8 SOS constraint(s)\n",
      "Variable types: 35 continuous, 22 integer (22 binary)\n",
      "\n",
      "Root relaxation: objective 6.120000e+02, 31 iterations, 0.00 seconds\n",
      "\n",
      "    Nodes    |    Current Node    |     Objective Bounds      |     Work\n",
      " Expl Unexpl |  Obj  Depth IntInf | Incumbent    BestBd   Gap | It/Node Time\n",
      "\n",
      "     0     0  612.00000    0    6          -  612.00000      -     -    0s\n",
      "     0     0  612.00000    0    5          -  612.00000      -     -    0s\n",
      "     0     0  612.00000    0    5          -  612.00000      -     -    0s\n",
      "     0     2  612.00000    0    5          -  612.00000      -     -    0s\n",
      "*   17     3               9    1224.0000000 1218.48029  0.45%   4.5    0s\n",
      "\n",
      "Cutting planes:\n",
      "  Cover: 1\n",
      "  Implied bound: 1\n",
      "  MIR: 1\n",
      "  Flow cover: 2\n",
      "\n",
      "Explored 21 nodes (117 simplex iterations) in 0.30 seconds\n",
      "Thread count was 2 (of 4 available processors)\n",
      "\n",
      "Solution count 1: 1224 \n",
      "\n",
      "Optimal solution found (tolerance 1.00e-04)\n",
      "Best objective 1.224000000000e+03, best bound 1.224000000000e+03, gap 0.0000%\n"
     ]
    }
   ],
   "source": [
    "M.setObjective(TOTAL_EMIT.sum(\"*\"),sense=GRB.MINIMIZE)\n",
    "M.optimize()"
   ]
  },
  {
   "cell_type": "code",
   "execution_count": 170,
   "metadata": {},
   "outputs": [
    {
     "name": "stdout",
     "output_type": "stream",
     "text": [
      " ('p1_1', 'wind') \t---\t 758.5810425121505\n",
      " ('p1_1', 'solar') \t---\t 2280.2713266146775\n",
      " ('p1_2', 'wind') \t---\t 758.5810425121505\n",
      " ('p1_2', 'solar') \t---\t 2280.271326614678\n",
      " ('p2_1', 'wind') \t---\t 758.5810425121505\n",
      " ('p2_1', 'solar') \t---\t 2280.2713266146775\n",
      " ('p2_2', 'wind') \t---\t 758.5810425121505\n",
      " ('p2_2', 'solar') \t---\t 2280.271326614678\n"
     ]
    }
   ],
   "source": [
    "# printVars(INVESTMENT)\n",
    "printVars(INVESTMENT)"
   ]
  },
  {
   "cell_type": "code",
   "execution_count": 171,
   "metadata": {},
   "outputs": [
    {
     "name": "stdout",
     "output_type": "stream",
     "text": [
      " p1_1 \t---\t 306.0\n",
      " p1_2 \t---\t 306.0\n",
      " p2_1 \t---\t 306.0\n",
      " p2_2 \t---\t 306.0\n"
     ]
    }
   ],
   "source": [
    "printVars(FOLL_CARB_BUY)"
   ]
  },
  {
   "cell_type": "code",
   "execution_count": 172,
   "metadata": {},
   "outputs": [
    {
     "name": "stdout",
     "output_type": "stream",
     "text": [
      "Total coal production:\t 0.0 ---- per country --- 0.0\n",
      "Total gas production:\t 3400.0 ---- per country --- 1700.0\n",
      "Total wind production:\t 1652.6256111769135 ---- per country --- 826.3128055884567\n",
      "Total solar production:\t 2457.351300082384 ---- per country --- 1228.675650041192\n"
     ]
    }
   ],
   "source": [
    "for ee in data.energy:\n",
    "    vv = PRODUCTION.sum(\"*\",ee,\"*\").getValue()\n",
    "    print (\"Total\", ee, \"production:\\t\", vv, \"---- per country ---\", vv/2)"
   ]
  },
  {
   "cell_type": "code",
   "execution_count": 173,
   "metadata": {},
   "outputs": [],
   "source": [
    "prodObj = {}\n",
    "prodCost = {} # (pp,ss)\n",
    "prod = {} #(pp, ee)\n",
    "invCost = {}\n",
    "carbCost = {}\n",
    "energPrice = {}\n",
    "revenue = {}\n",
    "\n",
    "for pp in data.producers:\n",
    "    for ss in data.scenario:\n",
    "        prodCost[pp,ss] = 0\n",
    "        prod[pp,ss] = 0\n",
    "        for ee in data.energy:\n",
    "            prodCost[pp,ss] += data.LinProdCost[pp,ee]*PRODUCTION[pp,ee,ss].X*data.probability[ss]\n",
    "            prodCost[pp,ss] += data.QuadProdCost[pp,ee]*PRODUCTION[pp,ee,ss].X*PRODUCTION[pp,ee,ss].X*data.probability[ss]\n",
    "            prod[pp,ss] += PRODUCTION[pp,ee,ss].X*data.probability[ss]\n",
    "            \n",
    "    invCost[pp] = 0\n",
    "    for gg in data.green:\n",
    "        invCost[pp] += data.LinInvCost[pp,gg]*INVESTMENT[pp,ee].X\n",
    "        invCost[pp] += data.QuadInvCost[pp,gg]*INVESTMENT[pp,ee].X*INVESTMENT[pp,ee].X\n",
    "    \n",
    "    carbCost[pp] = (data.cciInt + data.cciSlope*sum([FOLL_CARB_BUY[ppp].X for ppp in data.producers]))*FOLL_CARB_BUY[pp].X\n",
    "\n",
    "for cc,ss in itertools.product(data.countries,data.scenario):\n",
    "    energPrice[cc,ss] = data.DemInt[cc,ss] - data.DemSlope[cc,ss] * C_PROD[cc,ss].X\n",
    "\n",
    "for pp in data.producers:\n",
    "    cntry = data.domesticity.select(\"*\",pp)[0][0]\n",
    "    revenue[pp] = 0\n",
    "    for ss in data.scenario:\n",
    "        revenue[pp] += energPrice[cc,ss]*prod[pp,ss]*data.probability[ss]\n",
    "    \n",
    "        \n",
    "    prodObj[pp] = revenue[pp] + carbCost[pp] + invCost[pp] + sum(prodCost[pp,ss] for ss in data.scenario)"
   ]
  },
  {
   "cell_type": "code",
   "execution_count": 174,
   "metadata": {},
   "outputs": [
    {
     "data": {
      "text/plain": [
       "{'p1_1': 6120.0, 'p1_2': 6120.0, 'p2_1': 6120.0, 'p2_2': 6120.0}"
      ]
     },
     "execution_count": 174,
     "metadata": {},
     "output_type": "execute_result"
    }
   ],
   "source": [
    "carbCost"
   ]
  },
  {
   "cell_type": "code",
   "execution_count": 183,
   "metadata": {},
   "outputs": [
    {
     "name": "stdout",
     "output_type": "stream",
     "text": [
      " p1_1 \t---\t 306.0\n",
      " p1_2 \t---\t 306.0\n",
      " p2_1 \t---\t 306.0\n",
      " p2_2 \t---\t 306.0\n"
     ]
    }
   ],
   "source": [
    "printVars(FOLL_CARB_BUY)"
   ]
  },
  {
   "cell_type": "code",
   "execution_count": 182,
   "metadata": {},
   "outputs": [
    {
     "data": {
      "text/plain": [
       "20.0"
      ]
     },
     "execution_count": 182,
     "metadata": {},
     "output_type": "execute_result"
    }
   ],
   "source": [
    "(data.cciInt + data.cciSlope*FOLL_CARB_BUY.sum(\"*\")).getValue()"
   ]
  }
 ],
 "metadata": {
  "kernelspec": {
   "display_name": "Python 3",
   "language": "python",
   "name": "python3"
  },
  "language_info": {
   "codemirror_mode": {
    "name": "ipython",
    "version": 3
   },
   "file_extension": ".py",
   "mimetype": "text/x-python",
   "name": "python",
   "nbconvert_exporter": "python",
   "pygments_lexer": "ipython3",
   "version": "3.7.4"
  }
 },
 "nbformat": 4,
 "nbformat_minor": 4
}
