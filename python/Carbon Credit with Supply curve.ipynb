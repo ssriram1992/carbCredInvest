{
 "cells": [
  {
   "cell_type": "code",
   "execution_count": 129,
   "metadata": {},
   "outputs": [
    {
     "name": "stdout",
     "output_type": "stream",
     "text": [
      "The autoreload extension is already loaded. To reload it, use:\n",
      "  %reload_ext autoreload\n"
     ]
    }
   ],
   "source": [
    "%load_ext autoreload\n",
    "%autoreload 2\n",
    "from EPECinterface import *\n",
    "from gurobipy import *\n",
    "import itertools\n",
    "import csv"
   ]
  },
  {
   "cell_type": "code",
   "execution_count": 130,
   "metadata": {},
   "outputs": [],
   "source": [
    "def printVars(vv, prefix = \"\", tol=1e-6):\n",
    "    for vvv in vv:\n",
    "        if abs(vv[vvv].X) >= tol:\n",
    "            print(prefix,vvv,\"\\t---\\t\",vv[vvv].X)"
   ]
  },
  {
   "cell_type": "markdown",
   "metadata": {},
   "source": [
    "# Sets"
   ]
  },
  {
   "cell_type": "code",
   "execution_count": 131,
   "metadata": {},
   "outputs": [],
   "source": [
    "dirty = [\"coal\", \"gas\"]\n",
    "green = [\"wind\", \"solar\"]\n",
    "\n",
    "countries = [\"c1\", \"c2\"]\n",
    "producers = [\"p1_1\", \"p1_2\", \"p2_1\", \"p2_2\"]\n",
    "\n",
    "domesticity = tuplelist([(\"c1\",\"p1_1\"), (\"c1\",\"p1_2\"),\n",
    "               (\"c2\",\"p2_1\"), (\"c2\",\"p2_2\")\n",
    "              ])\n",
    "\n",
    "scenario = [\"s\"+str(i+1) for i in range(2\n",
    "                                       )]\n",
    "\n",
    "data = inputData(dirty, green, countries, producers, domesticity, scenario)"
   ]
  },
  {
   "cell_type": "code",
   "execution_count": 132,
   "metadata": {},
   "outputs": [],
   "source": [
    "mylist = readInputFromFile(\"inputs.csv\")\n",
    "baseData = mylist[0]\n",
    "data = inputData(dirty, green, countries, producers, domesticity, scenario)\n",
    "data.buildFromList(baseData)"
   ]
  },
  {
   "cell_type": "code",
   "execution_count": 133,
   "metadata": {},
   "outputs": [],
   "source": [
    "data.cciInt = 0\n",
    "data.cciSlope = 2"
   ]
  },
  {
   "cell_type": "code",
   "execution_count": 134,
   "metadata": {},
   "outputs": [],
   "source": [
    "# data.dirty = ['gas']\n",
    "# data.green = ['wind']\n",
    "# data.energy = ['gas','wind']\n",
    "# data.scenario = ['s1']\n",
    "# data.probability = {'s1':1}\n",
    "for pp in data.producers:\n",
    "    data.InitCredits[pp] = 0"
   ]
  },
  {
   "cell_type": "markdown",
   "metadata": {},
   "source": [
    "# Complementarity Problem Formulation"
   ]
  },
  {
   "cell_type": "markdown",
   "metadata": {},
   "source": [
    "## Variables"
   ]
  },
  {
   "cell_type": "code",
   "execution_count": 135,
   "metadata": {},
   "outputs": [],
   "source": [
    "M = Model()\n",
    "# ## Variables\n",
    "# ### Follower Variables \n",
    "PRODUCTION = M.addVars(data.producers, data.energy, data.scenario, \n",
    "                       vtype=GRB.CONTINUOUS, name = \"PROD\")\n",
    "INVESTMENT = M.addVars(data.producers, data.energy, \n",
    "                       vtype=GRB.CONTINUOUS, name = \"INV\") \n",
    "FOLL_CARB_BUY = M.addVars(data.producers, lb = -GRB.INFINITY, \n",
    "                              name = \"FOLL_CARB_BUY\")\n",
    "\n",
    "### All data.dirty investments must be 0 \n",
    "for ee in data.dirty:\n",
    "    for x in INVESTMENT.select(\"*\",ee):\n",
    "        x.ub = 0\n",
    "\n",
    "\n",
    "# ### Leader Variables \n",
    "\n",
    "TOTAL_INV = M.addVars(data.countries, data.energy, name = \"TOTAL_INV\")\n",
    "TOTAL_EMIT = M.addVars(data.countries, data.scenario, name = \"TOTAL_EMIT\")\n",
    "C_PROD = M.addVars(data.countries, data.scenario, name=\"C_PROD\")\n",
    "\n",
    "# ### Duals \n",
    "D_INFRALIMIT = M.addVars(data.producers, data.energy, data.scenario,\n",
    "                        name = \"D_INFRA\")\n",
    "D_EMITLIMIT = M.addVars(data.producers, data.scenario, name = \"D_EMIT\")\n",
    "\n",
    "# ### Binary variables \n",
    "B_PRODUCTION= M.addVars(data.producers, data.energy, data.scenario, \n",
    "                       vtype= GRB.BINARY, name = \"B_Prod\")\n",
    "B_INVESTMENT= M.addVars(data.producers, data.energy, \n",
    "                       vtype= GRB.BINARY, name = \"B_Invest\")\n",
    "B_CARBON = M.addVars(data.producers, vtype = GRB.BINARY, name = \"B_Carbon\")\n",
    "B_INFRALIM = M.addVars(data.producers, data.energy, data.scenario, \n",
    "                      vtype = GRB. BINARY, name = \"B_InfraLim\")\n",
    "B_EMITLIM = M.addVars(data.producers, data.scenario,  \n",
    "                      vtype = GRB. BINARY, name = \"B_EmitLim\")"
   ]
  },
  {
   "cell_type": "markdown",
   "metadata": {},
   "source": [
    "## Constraints"
   ]
  },
  {
   "cell_type": "code",
   "execution_count": 136,
   "metadata": {},
   "outputs": [
    {
     "name": "stdout",
     "output_type": "stream",
     "text": [
      "Changed value of parameter NonConvex to 2\n",
      "   Prev: -1  Min: -1  Max: 2  Default: -1\n",
      "Changed value of parameter Presolve to 2\n",
      "   Prev: -1  Min: -1  Max: 2  Default: -1\n",
      "Changed value of parameter CutPasses to 1\n",
      "   Prev: -1  Min: -1  Max: 2000000000  Default: -1\n",
      "Changed value of parameter PreQLinearize to 1\n",
      "   Prev: -1  Min: -1  Max: 2  Default: -1\n",
      "Changed value of parameter Threads to 2\n",
      "   Prev: 0  Min: 0  Max: 1024  Default: 0\n"
     ]
    }
   ],
   "source": [
    "# Constraints\n",
    "# ### Follower KKT conditions \n",
    "\n",
    "# eq_infraLimit\n",
    "for pp,ee,ss in itertools.product(data.producers,data.energy,data.scenario):\n",
    "    eqn = 0\n",
    "    if ee in data.green:\n",
    "        eqn = data.CapacityFactor[pp, ee, ss]*(INVESTMENT[pp,ee]+data.InitCapacity[pp, ee]) - PRODUCTION[pp, ee, ss]\n",
    "    else:\n",
    "        eqn = INVESTMENT[pp,ee]+data.InitCapacity[pp, ee]- PRODUCTION[pp, ee, ss]\n",
    "    M.addConstr(eqn >= 0,name = \"eq_infraLimit\"+\"_\".join([pp,ee,ss]))\n",
    "    M.addGenConstrIndicator(B_INFRALIM[pp,ee,ss],0,eqn ==0, name = \"eq_infraLimit1\"+\"_\".join([pp,ee,ss]))\n",
    "    M.addGenConstrIndicator(B_INFRALIM[pp,ee,ss],1,D_INFRALIMIT[pp,ee,ss] ==0, name = \"eq_infraLimit2\"+\"_\".join([pp,ee,ss]))\n",
    "\n",
    "# eq_emitLimit\n",
    "for pp,ss in itertools.product(data.producers, data.scenario):\n",
    "    eqn = data.InitCredits[pp] + FOLL_CARB_BUY[pp] - quicksum(data.Emission[ee]*PRODUCTION[pp,ee,ss] for ee in data.dirty)\n",
    "    M.addConstr(eqn >= 0,name = \"eq_emitLimit\"+\"_\".join([pp,ss]))\n",
    "    M.addGenConstrIndicator(B_EMITLIM[pp,ss],0,eqn ==0, name = \"eq_emitLimit1\"+\"_\".join([pp,ss]))\n",
    "    M.addGenConstrIndicator(B_EMITLIM[pp,ss],1,D_EMITLIMIT[pp,ss] ==0, name = \"eq_emitLimit2\"+\"_\".join([pp,ss]))\n",
    "\n",
    "# eq_countryProduction\n",
    "for ss in data.scenario:\n",
    "    for cc in data.countries:\n",
    "        eqn = 0\n",
    "        for pp in data.producers:\n",
    "            if (cc,pp) in data.domesticity:\n",
    "                eqn = eqn + quicksum(PRODUCTION[pp,ee,ss] for ee  in data.energy)\n",
    "        M.addConstr(eqn == C_PROD[cc,ss], name=\"eq_countryProduction\"+\"_\".join([cc,ss]))\n",
    "\n",
    "# eq_production\n",
    "for pp,ee,ss in itertools.product(data.producers,data.energy,data.scenario):\n",
    "    eqn = data.probability[ss]*(\n",
    "        data.LinProdCost[pp,ee] + data.QuadProdCost[pp,ee]*PRODUCTION[pp,ee,ss] -\n",
    "        quicksum(data.DemInt[cc[0],ss] - data.DemSlope[cc[0],ss]*C_PROD[cc[0],ss] for cc in data.domesticity.select(\"*\",pp)) +\n",
    "        quicksum(data.DemSlope[cc[0],ss]*PRODUCTION[pp,ee2,ss] for cc in data.domesticity.select(\"*\",pp) for ee2 in data.energy) \n",
    "    )+  D_INFRALIMIT[pp,ee,ss] + data.Emission[ee]*D_EMITLIMIT[pp,ss]\n",
    "\n",
    "    M.addConstr(eqn >= 0,name = \"eq_PRODUCTION\"+\"_\".join([pp,ee,ss]))\n",
    "    M.addGenConstrIndicator(B_PRODUCTION[pp,ee,ss],0,eqn ==0, name = \"eq_PRODUCTION1\"+\"_\".join([pp,ee,ss]))\n",
    "    M.addGenConstrIndicator(B_PRODUCTION[pp,ee,ss],1,PRODUCTION[pp,ee,ss] ==0, name = \"eq_PRODUCTION2\"+\"_\".join([pp,ee,ss]))\n",
    "\n",
    "# eq_investment\n",
    "for pp,ee in itertools.product(data.producers,data.green):\n",
    "    eqn = data.LinInvCost[pp,ee] + data.QuadInvCost[pp,ee]*INVESTMENT[pp,ee] - quicksum(data.CapacityFactor[pp,ee,ss]*D_INFRALIMIT[pp,ee,ss] for ss in data.scenario)\n",
    "    M.addConstr(eqn >= 0,name = \"eq_INVESTMENT\"+\"_\".join([pp,ee]))\n",
    "    M.addGenConstrIndicator(B_INVESTMENT[pp,ee],0,eqn ==0, name = \"eq_INVESTMENT1\"+\"_\".join([pp,ee]))\n",
    "    M.addGenConstrIndicator(B_INVESTMENT[pp,ee],1,INVESTMENT[pp,ee] ==0, name = \"eq_INVESTMENT2\"+\"_\".join([pp,ee]))\n",
    "\n",
    "# eq_carbonPurchase\n",
    "for pp in data.producers:\n",
    "    eqn = (data.cciInt + data.cciSlope*quicksum(FOLL_CARB_BUY[ppp] for ppp in data.producers)) + data.cciSlope*FOLL_CARB_BUY[pp] -quicksum(D_EMITLIMIT[pp,ss] for ss in data.scenario)\n",
    "    M.addConstr(eqn >= 0, name = \"eq_carbonPurchase\"+str(pp))\n",
    "    M.addGenConstrIndicator(B_CARBON[pp],0,eqn ==0, name = \"eq_CARBON1\"+\"_\"+str(pp))\n",
    "    M.addGenConstrIndicator(B_CARBON[pp],1,FOLL_CARB_BUY[pp] ==0, name = \"eq_CARBON2\"+\"_\"+str(pp))\n",
    "\n",
    "# Total data.Emission\n",
    "for ss in data.scenario:\n",
    "    eqn = {cc:0 for cc in data.countries}\n",
    "    for (cc,pp) in data.domesticity:\n",
    "        eqn[cc] = eqn[cc] + quicksum(data.Emission[ee]*PRODUCTION[pp,ee,ss] for ee in data.energy)\n",
    "    M.addConstrs((TOTAL_EMIT[cc,ss] - eqn[cc]==0 for cc in data.countries), name=\"TotalEmission\"+str(ss))\n",
    "\n",
    "# Total data.Investment\n",
    "for ee in data.green:\n",
    "    eqn = {cc:0 for cc in data.countries}\n",
    "    for (cc,pp) in data.domesticity:\n",
    "        eqn[cc] = eqn[cc] + INVESTMENT[pp,ee] \n",
    "    M.addConstrs((TOTAL_INV[cc,ee] - eqn[cc]==0 for cc in data.countries), name=\"TotalInv\"+\"_\".join([cc,ee]))\n",
    "\n",
    "M.Params.NonConvex=2\n",
    "M.Params.Presolve = 2\n",
    "M.Params.CutPasses = 1\n",
    "M.Params.PreQLinearize = 1\n",
    "M.Params.Threads = 2\n",
    "M.update()\n"
   ]
  },
  {
   "cell_type": "code",
   "execution_count": 137,
   "metadata": {},
   "outputs": [
    {
     "name": "stdout",
     "output_type": "stream",
     "text": [
      "Gurobi Optimizer version 9.0.0 build v9.0.0rc2 (linux64)\n",
      "Optimize a model with 96 rows, 200 columns and 412 nonzeros\n",
      "Model fingerprint: 0x5f8473d4\n",
      "Model has 168 general constraints\n",
      "Variable types: 108 continuous, 92 integer (92 binary)\n",
      "Coefficient statistics:\n",
      "  Matrix range     [1e-01, 4e+00]\n",
      "  Objective range  [0e+00, 0e+00]\n",
      "  Bounds range     [1e+00, 1e+00]\n",
      "  RHS range        [6e-01, 5e+02]\n",
      "Warning for adding constraints: zero or small (< 1e-13) coefficients, ignored\n",
      "Presolve added 72 rows and 34 columns\n",
      "Presolve time: 0.00s\n",
      "Presolved: 168 rows, 234 columns, 598 nonzeros\n",
      "Presolved model has 66 SOS constraint(s)\n",
      "Variable types: 146 continuous, 88 integer (88 binary)\n",
      "Presolve removed 108 rows and 146 columns\n",
      "Presolved: 60 rows, 88 columns, 232 nonzeros\n",
      "\n",
      "\n",
      "Root relaxation: objective 0.000000e+00, 36 iterations, 0.00 seconds\n",
      "\n",
      "    Nodes    |    Current Node    |     Objective Bounds      |     Work\n",
      " Expl Unexpl |  Obj  Depth IntInf | Incumbent    BestBd   Gap | It/Node Time\n",
      "\n",
      "     0     0    0.00000    0   38          -    0.00000      -     -    0s\n",
      "     0     0    0.00000    0   43          -    0.00000      -     -    0s\n",
      "     0     2    0.00000    0   43          -    0.00000      -     -    0s\n",
      "* 7619    23              56       0.0000000    0.00000  0.00%   1.8    0s\n",
      "\n",
      "Cutting planes:\n",
      "  Gomory: 5\n",
      "  Cover: 1\n",
      "  Implied bound: 1\n",
      "  MIR: 7\n",
      "  Flow cover: 7\n",
      "  Inf proof: 2\n",
      "  Relax-and-lift: 1\n",
      "\n",
      "Explored 7686 nodes (26509 simplex iterations) in 0.62 seconds\n",
      "Thread count was 2 (of 32 available processors)\n",
      "\n",
      "Solution count 1: 0 \n",
      "\n",
      "Optimal solution found (tolerance 1.00e-04)\n",
      "Best objective 0.000000000000e+00, best bound 0.000000000000e+00, gap 0.0000%\n"
     ]
    }
   ],
   "source": [
    "M.optimize()"
   ]
  },
  {
   "cell_type": "code",
   "execution_count": 123,
   "metadata": {},
   "outputs": [],
   "source": [
    "prodObj = {}\n",
    "prodCost = {} # (pp,ss)\n",
    "prod = {} #(pp, ee)\n",
    "invCost = {}\n",
    "carbCost = {}\n",
    "energPrice = {}\n",
    "revenue = {}\n",
    "\n",
    "for pp in data.producers:\n",
    "    for ss in data.scenario:\n",
    "        prodCost[pp,ss] = 0\n",
    "        prod[pp,ss] = 0\n",
    "        for ee in data.energy:\n",
    "            prodCost[pp,ss] += data.LinProdCost[pp,ee]*PRODUCTION[pp,ee,ss].X*data.probability[ss]\n",
    "            prodCost[pp,ss] += data.QuadProdCost[pp,ee]*PRODUCTION[pp,ee,ss].X*PRODUCTION[pp,ee,ss].X*data.probability[ss]\n",
    "            prod[pp,ss] += PRODUCTION[pp,ee,ss].X*data.probability[ss]\n",
    "            \n",
    "    invCost[pp] = 0\n",
    "    for gg in data.green:\n",
    "        invCost[pp] += data.LinInvCost[pp,gg]*INVESTMENT[pp,ee].X\n",
    "        invCost[pp] += data.QuadInvCost[pp,gg]*INVESTMENT[pp,ee].X*INVESTMENT[pp,ee].X\n",
    "    \n",
    "    carbCost[pp] = (data.cciInt + data.cciSlope*sum([FOLL_CARB_BUY[ppp].X for ppp in data.producers]))*FOLL_CARB_BUY[pp].X\n",
    "\n",
    "for cc,ss in itertools.product(data.countries,data.scenario):\n",
    "    energPrice[cc,ss] = data.DemInt[cc,ss] - data.DemSlope[cc,ss] * C_PROD[cc,ss].X\n",
    "\n",
    "for pp in data.producers:\n",
    "    cntry = data.domesticity.select(\"*\",pp)[0][0]\n",
    "    revenue[pp] = 0\n",
    "    for ss in data.scenario:\n",
    "        revenue[pp] += energPrice[cc,ss]*prod[pp,ss]*data.probability[ss]\n",
    "    \n",
    "        \n",
    "    prodObj[pp] = revenue[pp] + carbCost[pp] + invCost[pp] + sum(prodCost[pp,ss] for ss in data.scenario)"
   ]
  },
  {
   "cell_type": "code",
   "execution_count": 124,
   "metadata": {},
   "outputs": [
    {
     "data": {
      "text/plain": [
       "{'p1_1': 23506.135936474035,\n",
       " 'p1_2': 23506.135936474035,\n",
       " 'p2_1': 23501.988709827598,\n",
       " 'p2_2': 23501.988709827583}"
      ]
     },
     "execution_count": 124,
     "metadata": {},
     "output_type": "execute_result"
    }
   ],
   "source": [
    "carbCost"
   ]
  },
  {
   "cell_type": "code",
   "execution_count": 126,
   "metadata": {},
   "outputs": [
    {
     "data": {
      "text/plain": [
       "{'p1_1': <gurobi.Var FOLL_CARB_BUY[p1_1] (value 54.20817481332834)>,\n",
       " 'p1_2': <gurobi.Var FOLL_CARB_BUY[p1_2] (value 54.208174813328334)>,\n",
       " 'p2_1': <gurobi.Var FOLL_CARB_BUY[p2_1] (value 54.19861077491521)>,\n",
       " 'p2_2': <gurobi.Var FOLL_CARB_BUY[p2_2] (value 54.19861077491518)>}"
      ]
     },
     "execution_count": 126,
     "metadata": {},
     "output_type": "execute_result"
    }
   ],
   "source": [
    "FOLL_CARB_BUY"
   ]
  },
  {
   "cell_type": "code",
   "execution_count": 128,
   "metadata": {},
   "outputs": [
    {
     "data": {
      "text/plain": [
       "433.62714235297415"
      ]
     },
     "execution_count": 128,
     "metadata": {},
     "output_type": "execute_result"
    }
   ],
   "source": [
    "(data.cciInt + data.cciSlope*sum([FOLL_CARB_BUY[ppp].X for ppp in data.producers]))"
   ]
  }
 ],
 "metadata": {
  "kernelspec": {
   "display_name": "Python 3",
   "language": "python",
   "name": "python3"
  },
  "language_info": {
   "codemirror_mode": {
    "name": "ipython",
    "version": 3
   },
   "file_extension": ".py",
   "mimetype": "text/x-python",
   "name": "python",
   "nbconvert_exporter": "python",
   "pygments_lexer": "ipython3",
   "version": "3.7.6"
  }
 },
 "nbformat": 4,
 "nbformat_minor": 4
}
