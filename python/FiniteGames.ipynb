{
 "cells": [
  {
   "cell_type": "code",
   "execution_count": 72,
   "metadata": {},
   "outputs": [],
   "source": [
    "from gurobipy import *\n",
    "import numpy as np"
   ]
  },
  {
   "cell_type": "code",
   "execution_count": 75,
   "metadata": {},
   "outputs": [],
   "source": [
    "# A, B are matrices of pay offs. \n",
    "\n",
    "A = np.array([\n",
    "  [1,-3],\n",
    "  [-1, -2]\n",
    "])\n",
    "\n",
    "B = np.array([\n",
    "  [1,3],\n",
    "  [2, -4]\n",
    "])\n",
    "\n"
   ]
  },
  {
   "cell_type": "code",
   "execution_count": 84,
   "metadata": {},
   "outputs": [
    {
     "data": {
      "text/plain": [
       "(array([0.75, 0.25]), array([0.33333333, 0.66666667]))"
      ]
     },
     "execution_count": 84,
     "metadata": {},
     "output_type": "execute_result"
    }
   ],
   "source": [
    "solveBiMatrix(A, B)"
   ]
  },
  {
   "cell_type": "code",
   "execution_count": 80,
   "metadata": {},
   "outputs": [],
   "source": [
    "def solveBiMatrix(A, B, costs = False, verbose=False):\n",
    "    \"\"\"\n",
    "    Identifies a Nash equilibrium for a bimatrix Game using Gurobi 9.\n",
    "    Formulation based on Chapter 1 in \"The Linear complementarity \n",
    "    Problem by Cottle, Pang and Stone. Published by SIAM.\"\n",
    "    \n",
    "    PARAMETERS:\n",
    "    -----------\n",
    "    A: np.array \n",
    "       A[i,j] should be the payoff (or costs) for the first player\n",
    "       if the first player plays strategy i and the second player \n",
    "       plays strategy j\n",
    "    \n",
    "    B: np.array \n",
    "       B[i,j] should be the payoff (or costs) for the first player\n",
    "       if the first player plays strategy i and the second player \n",
    "       plays strategy j\n",
    "       \n",
    "    costs: Bool (default=False)\n",
    "       If this is true, then the entries of A and B are considered as \n",
    "       costs as opposed to payoffs. As a result, the game is played\n",
    "       as if the players are minimizing the expected costs (as opposed\n",
    "       to maximizing the expected pay offs.)\n",
    "       \n",
    "    verbose: Bool (default = False)\n",
    "       If this is true, prints the Gurobi Logs during solve. If not, prints nothing. \n",
    "         \n",
    "    ASSERTS:\n",
    "    --------\n",
    "    A.shape == B.shape\n",
    "    \n",
    "    RETURNS:\n",
    "    --------\n",
    "    A_MNE:\n",
    "        np.array of shape (m,) giving the probabilities with which each\n",
    "        strategy should be played by the first player at a Nash equilibrium\n",
    "    B_MNE:\n",
    "        np.array of shape (n,) giving the probabilities with which each\n",
    "        strategy should be played by the second player at a Nash equilibrium\n",
    "    \"\"\"\n",
    "    assert A.shape == B.shape\n",
    "    if not costs: # Internally, always solve it as costs\n",
    "        A = -A\n",
    "        B = -B\n",
    "    \n",
    "    temp = min (np.min(A), np.min(B))\n",
    "    if temp <= 0.1:\n",
    "        A = A + (1 - temp)\n",
    "        B = B + (1 - temp)\n",
    "\n",
    "    m = A.shape[0]\n",
    "    n = A.shape[1]\n",
    "    M = Model()\n",
    "    if not verbose:\n",
    "        M.params.LogToConsole = 0\n",
    "\n",
    "    x = M.addMVar(m, lb = np.zeros(m), name = \"x\")\n",
    "    y = M.addMVar(n, lb = np.zeros(n), name = \"y\")\n",
    "    u = M.addMVar(m, lb = np.zeros(m), name = \"u\")\n",
    "    v = M.addMVar(n, lb = np.zeros(n), name = \"v\")\n",
    "\n",
    "    M.addConstr(A@y - np.ones(m) == u )\n",
    "    M.addConstr((B.T)@x - np.ones(n) == v )\n",
    "    \n",
    "    M.addConstr(u@x ==0, name = \"uPerpx\")\n",
    "    M.addConstr(v@y ==0, name = \"vPerpy\")\n",
    "    \n",
    "    M.params.NonConvex = 2\n",
    "    M.optimize()\n",
    "\n",
    "    return (x.X/sum(x.X), y.X/sum(y.X))"
   ]
  }
 ],
 "metadata": {
  "kernelspec": {
   "display_name": "Python 3",
   "language": "python",
   "name": "python3"
  },
  "language_info": {
   "codemirror_mode": {
    "name": "ipython",
    "version": 3
   },
   "file_extension": ".py",
   "mimetype": "text/x-python",
   "name": "python",
   "nbconvert_exporter": "python",
   "pygments_lexer": "ipython3",
   "version": "3.7.6"
  }
 },
 "nbformat": 4,
 "nbformat_minor": 4
}
