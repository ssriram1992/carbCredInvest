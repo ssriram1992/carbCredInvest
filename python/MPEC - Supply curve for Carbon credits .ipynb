{
 "cells": [
  {
   "cell_type": "code",
   "execution_count": 75,
   "metadata": {},
   "outputs": [
    {
     "name": "stdout",
     "output_type": "stream",
     "text": [
      "The autoreload extension is already loaded. To reload it, use:\n",
      "  %reload_ext autoreload\n"
     ]
    }
   ],
   "source": [
    "%load_ext autoreload\n",
    "%autoreload 2\n",
    "from EPECinterface import *\n",
    "from gurobipy import *\n",
    "import itertools\n",
    "import csv"
   ]
  },
  {
   "cell_type": "markdown",
   "metadata": {},
   "source": [
    "# Sets"
   ]
  },
  {
   "cell_type": "code",
   "execution_count": 76,
   "metadata": {},
   "outputs": [],
   "source": [
    "dirty = [\"coal\", \"gas\"]\n",
    "green = [\"wind\", \"solar\"]\n",
    "\n",
    "countries = [\"c1\", \"c2\"]\n",
    "producers = [\"p1_1\", \"p1_2\", \"p2_1\", \"p2_2\"]\n",
    "\n",
    "domesticity = tuplelist([(\"c1\",\"p1_1\"), (\"c1\",\"p1_2\"),\n",
    "               (\"c2\",\"p2_1\"), (\"c2\",\"p2_2\")\n",
    "              ])\n",
    "\n",
    "scenario = [\"s\"+str(i+1) for i in range(2\n",
    "                                       )]\n",
    "\n",
    "data = inputData(dirty, green, countries, producers, domesticity, scenario)"
   ]
  },
  {
   "cell_type": "code",
   "execution_count": 77,
   "metadata": {},
   "outputs": [],
   "source": [
    "mylist = readInputFromFile(\"inputs.csv\")\n",
    "baseData = mylist[0]\n",
    "data = inputData(dirty, green, countries, producers, domesticity, scenario)\n",
    "data.buildFromList(baseData)"
   ]
  },
  {
   "cell_type": "code",
   "execution_count": 78,
   "metadata": {},
   "outputs": [],
   "source": [
    "data.cciInt = 200\n",
    "data.cciSlope = 2"
   ]
  },
  {
   "cell_type": "code",
   "execution_count": 79,
   "metadata": {},
   "outputs": [
    {
     "data": {
      "text/plain": [
       "INSTANCE OF EPECinterface.inputData\n",
       "***********************************\n",
       "\n",
       "dirty ---------- ['coal', 'gas']\n",
       "\n",
       "green ---------- ['wind', 'solar']\n",
       "\n",
       "energy ---------- ['coal', 'gas', 'wind', 'solar']\n",
       "\n",
       "countries ---------- ['c1', 'c2']\n",
       "\n",
       "producers ---------- ['p1_1', 'p1_2', 'p2_1', 'p2_2']\n",
       "\n",
       "domesticity ---------- <gurobi.tuplelist (4 tuples, 2 values each):\n",
       " ( c1 , p1_1 )\n",
       " ( c1 , p1_2 )\n",
       " ( c2 , p2_1 )\n",
       " ( c2 , p2_2 )\n",
       ">\n",
       "\n",
       "scenario ---------- ['s1', 's2']\n",
       "\n",
       "LinInvCost ---------- {('p1_1', 'wind'): 15.0, ('p1_1', 'solar'): 25.0, ('p1_2', 'wind'): 15.0, ('p1_2', 'solar'): 25.0, ('p2_1', 'wind'): 15.0, ('p2_1', 'solar'): 25.0, ('p2_2', 'wind'): 15.0, ('p2_2', 'solar'): 25.0}\n",
       "\n",
       "QuadInvCost ---------- {('p1_1', 'wind'): 1.0, ('p1_1', 'solar'): 4.0, ('p1_2', 'wind'): 1.0, ('p1_2', 'solar'): 4.0, ('p2_1', 'wind'): 1.0, ('p2_1', 'solar'): 4.0, ('p2_2', 'wind'): 1.0, ('p2_2', 'solar'): 4.0}\n",
       "\n",
       "LinProdCost ---------- {('p1_1', 'coal'): 6.0, ('p1_1', 'gas'): 6.0, ('p1_1', 'wind'): 0.1, ('p1_1', 'solar'): 0.1, ('p1_2', 'coal'): 6.0, ('p1_2', 'gas'): 6.0, ('p1_2', 'wind'): 0.1, ('p1_2', 'solar'): 0.1, ('p2_1', 'coal'): 6.0, ('p2_1', 'gas'): 6.0, ('p2_1', 'wind'): 0.1, ('p2_1', 'solar'): 0.1, ('p2_2', 'coal'): 6.0, ('p2_2', 'gas'): 6.0, ('p2_2', 'wind'): 0.1, ('p2_2', 'solar'): 0.1}\n",
       "\n",
       "QuadProdCost ---------- {('p1_1', 'coal'): 1.5, ('p1_1', 'gas'): 1.5, ('p1_1', 'wind'): 0.0, ('p1_1', 'solar'): 0.0, ('p1_2', 'coal'): 1.5, ('p1_2', 'gas'): 1.5, ('p1_2', 'wind'): 0.0, ('p1_2', 'solar'): 0.0, ('p2_1', 'coal'): 1.5, ('p2_1', 'gas'): 1.5, ('p2_1', 'wind'): 0.0, ('p2_1', 'solar'): 0.0, ('p2_2', 'coal'): 1.5, ('p2_2', 'gas'): 1.5, ('p2_2', 'wind'): 0.0, ('p2_2', 'solar'): 0.0}\n",
       "\n",
       "CapacityFactor ---------- {('p1_1', 'wind', 's1'): 0.5, ('p1_1', 'wind', 's2'): 0.125, ('p1_1', 'solar', 's1'): 0.4, ('p1_1', 'solar', 's2'): 0.3, ('p1_2', 'wind', 's1'): 0.5, ('p1_2', 'wind', 's2'): 0.125, ('p1_2', 'solar', 's1'): 0.4, ('p1_2', 'solar', 's2'): 0.3, ('p2_1', 'wind', 's1'): 0.5, ('p2_1', 'wind', 's2'): 0.125, ('p2_1', 'solar', 's1'): 0.45, ('p2_1', 'solar', 's2'): 0.3375, ('p2_2', 'wind', 's1'): 0.5, ('p2_2', 'wind', 's2'): 0.125, ('p2_2', 'solar', 's1'): 0.45, ('p2_2', 'solar', 's2'): 0.3375}\n",
       "\n",
       "InitCapacity ---------- {('p1_1', 'coal'): 30.0, ('p1_1', 'gas'): 300.0, ('p1_1', 'wind'): 5.0, ('p1_1', 'solar'): 0.0, ('p1_2', 'coal'): 40.0, ('p1_2', 'gas'): 300.0, ('p1_2', 'wind'): 5.0, ('p1_2', 'solar'): 0.0, ('p2_1', 'coal'): 50.0, ('p2_1', 'gas'): 300.0, ('p2_1', 'wind'): 5.0, ('p2_1', 'solar'): 0.0, ('p2_2', 'coal'): 60.0, ('p2_2', 'gas'): 300.0, ('p2_2', 'wind'): 5.0, ('p2_2', 'solar'): 0.0}\n",
       "\n",
       "InitCredits ---------- {'p1_1': 150.0, 'p1_2': 100.0, 'p2_1': 100.0, 'p2_2': 75.0}\n",
       "\n",
       "Emission ---------- {'coal': 2.0, 'gas': 1.0, 'wind': 0.0, 'solar': 0.0}\n",
       "\n",
       "DemInt ---------- {('c1', 's1'): 1000.0, ('c1', 's2'): 991.6666667, ('c2', 's1'): 1050.0, ('c2', 's2'): 1041.666667}\n",
       "\n",
       "DemSlope ---------- {('c1', 's1'): 1.0, ('c1', 's2'): 0.975, ('c2', 's1'): 1.1, ('c2', 's2'): 1.075}\n",
       "\n",
       "InitLeaderCredits ---------- {'c1': 0.0, 'c2': 0.0}\n",
       "\n",
       "minCons ---------- {'c1': 0.0, 'c2': 0.0}\n",
       "\n",
       "InvestValue ---------- {('c1', 'wind'): 0.0, ('c1', 'solar'): 50.0, ('c2', 'wind'): 0.0, ('c2', 'solar'): 100.0}\n",
       "\n",
       "InvestCrossValue ---------- {('c1', 'wind'): 10.0, ('c1', 'solar'): 10.0, ('c2', 'wind'): 10.0, ('c2', 'solar'): 10.0}\n",
       "\n",
       "EmissionValue ---------- {'c1': 100.0, 'c2': 100.0}\n",
       "\n",
       "EmissionValueQuad ---------- {'c1': 5.0, 'c2': 1.0}\n",
       "\n",
       "EmissionCrossValue ---------- {'c1': 10.0, 'c2': 20.0}\n",
       "\n",
       "probability ---------- {'s1': 0.5, 's2': 0.5}\n",
       "\n",
       "cciInt ---------- 200\n",
       "\n",
       "cciSlope ---------- 2\n",
       "\n"
      ]
     },
     "execution_count": 79,
     "metadata": {},
     "output_type": "execute_result"
    }
   ],
   "source": [
    "data"
   ]
  },
  {
   "cell_type": "markdown",
   "metadata": {},
   "source": [
    "# Variables"
   ]
  },
  {
   "cell_type": "code",
   "execution_count": 64,
   "metadata": {},
   "outputs": [],
   "source": [
    "M = Model()\n",
    "# ## Variables\n",
    "# ### Follower Variables \n",
    "PRODUCTION = M.addVars(data.producers, data.energy, data.scenario, \n",
    "                       vtype=GRB.CONTINUOUS, name = \"PROD\")\n",
    "INVESTMENT = M.addVars(data.producers, data.energy, \n",
    "                       vtype=GRB.CONTINUOUS, name = \"INV\") \n",
    "FOLL_CARB_BUY = M.addVars(data.producers, lb = -GRB.INFINITY, \n",
    "                              name = \"FOLL_CARB_BUY\")\n",
    "\n",
    "### All data.dirty investments must be 0 \n",
    "for ee in data.dirty:\n",
    "    for x in INVESTMENT.select(\"*\",ee):\n",
    "        x.ub = 0\n",
    "\n",
    "\n",
    "# ### Leader Variables \n",
    "CARBON_PRICE = M.addVars(data.countries, name=\"CARB_PRI\")\n",
    "C_PROD = M.addVars(data.countries, data.scenario, name=\"C_PROD\")\n",
    "CARB_IMP = M.addVars(data.countries, lb=-GRB.INFINITY, name = \"CARB_IMP\")\n",
    "\n",
    "TOTAL_INV = M.addVars(data.countries, data.energy, name = \"TOTAL_INV\")\n",
    "TOTAL_EMIT = M.addVars(data.countries, data.scenario, name = \"TOTAL_EMIT\")\n",
    "LEAD_CARB_BUY = M.addVars(data.countries, lb = -GRB.INFINITY, name = \"LEAD_CARB_BUY\") \n",
    "\n",
    "COUNTRY_OBJ = M.addVars(data.countries, lb= -10000+0*GRB.INFINITY, name = \"COUNTRY_OBJ\") \n",
    "\n",
    "# ### Duals \n",
    "D_INFRALIMIT = M.addVars(data.producers, data.energy, data.scenario,\n",
    "                        name = \"D_INFRA\")\n",
    "D_EMITLIMIT = M.addVars(data.producers, data.scenario, name = \"D_EMIT\")\n",
    "\n",
    "# ### Binary variables \n",
    "B_PRODUCTION= M.addVars(data.producers, data.energy, data.scenario, \n",
    "                       vtype= GRB.BINARY, name = \"B_Prod\")\n",
    "B_INVESTMENT= M.addVars(data.producers, data.energy, \n",
    "                       vtype= GRB.BINARY, name = \"B_data.Invest\")\n",
    "B_INFRALIM = M.addVars(data.producers, data.energy, data.scenario, \n",
    "                      vtype = GRB. BINARY, name = \"B_InfraLim\")\n",
    "B_EMITLIM = M.addVars(data.producers, data.scenario,  \n",
    "                      vtype = GRB. BINARY, name = \"B_EmitLim\")"
   ]
  },
  {
   "cell_type": "markdown",
   "metadata": {},
   "source": [
    "## Constraints"
   ]
  },
  {
   "cell_type": "code",
   "execution_count": 65,
   "metadata": {},
   "outputs": [],
   "source": [
    "# Constraints\n",
    "# ### Follower KKT conditions \n",
    "\n",
    "# eq_infraLimit\n",
    "for pp,ee,ss in itertools.product(data.producers,data.energy,data.scenario):\n",
    "    eqn = 0\n",
    "    if ee in data.green:\n",
    "        eqn = data.CapacityFactor[pp, ee, ss]*(INVESTMENT[pp,ee]+data.InitCapacity[pp, ee]) - PRODUCTION[pp, ee, ss]\n",
    "    else:\n",
    "        eqn = INVESTMENT[pp,ee]+data.InitCapacity[pp, ee]- PRODUCTION[pp, ee, ss]\n",
    "    M.addConstr(eqn >= 0,name = \"eq_infraLimit\"+\"_\".join([pp,ee,ss]))\n",
    "    M.addGenConstrIndicator(B_INFRALIM[pp,ee,ss],0,eqn ==0, name = \"eq_infraLimit1\"+\"_\".join([pp,ee,ss]))\n",
    "    M.addGenConstrIndicator(B_INFRALIM[pp,ee,ss],1,D_INFRALIMIT[pp,ee,ss] ==0, name = \"eq_infraLimit2\"+\"_\".join([pp,ee,ss]))\n",
    "\n",
    "# eq_emitLimit\n",
    "for pp,ss in itertools.product(data.producers, data.scenario):\n",
    "    eqn = data.InitCredits[pp] + FOLL_CARB_BUY[pp] -     quicksum(data.Emission[ee]*PRODUCTION[pp,ee,ss] for ee in data.dirty)\n",
    "    M.addConstr(eqn >= 0,name = \"eq_emitLimit\"+\"_\".join([pp,ss]))\n",
    "    M.addGenConstrIndicator(B_EMITLIM[pp,ss],0,eqn ==0, name = \"eq_emitLimit1\"+\"_\".join([pp,ss]))\n",
    "    M.addGenConstrIndicator(B_EMITLIM[pp,ss],1,D_EMITLIMIT[pp,ss] ==0, name = \"eq_emitLimit2\"+\"_\".join([pp,ss]))\n",
    "\n",
    "# eq_countryProduction\n",
    "for ss in data.scenario:\n",
    "    for cc in data.countries:\n",
    "        eqn = 0\n",
    "        for pp in data.producers:\n",
    "            if (cc,pp) in data.domesticity:\n",
    "                eqn = eqn + quicksum(PRODUCTION[pp,ee,ss] for ee  in data.energy)\n",
    "        M.addConstr(eqn == C_PROD[cc,ss], name=\"eq_countryProduction\"+\"_\".join([cc,ss]))\n",
    "\n",
    "# eq_production\n",
    "for pp,ee,ss in itertools.product(data.producers,data.energy,data.scenario):\n",
    "    eqn = data.probability[ss]*(\n",
    "        data.LinProdCost[pp,ee] + data.QuadProdCost[pp,ee]*PRODUCTION[pp,ee,ss] -\n",
    "        quicksum(data.DemInt[cc[0],ss] - data.DemSlope[cc[0],ss]*C_PROD[cc[0],ss] for cc in data.domesticity.select(\"*\",pp)) +\n",
    "        quicksum(data.DemSlope[cc[0],ss]*PRODUCTION[pp,ee2,ss] for cc in data.domesticity.select(\"*\",pp) for ee2 in data.energy) \n",
    "    )+  D_INFRALIMIT[pp,ee,ss] + data.Emission[ee]*D_EMITLIMIT[pp,ss]\n",
    "\n",
    "    M.addConstr(eqn >= 0,name = \"eq_PRODUCTION\"+\"_\".join([pp,ee,ss]))\n",
    "    M.addGenConstrIndicator(B_PRODUCTION[pp,ee,ss],0,eqn ==0, name = \"eq_PRODUCTION1\"+\"_\".join([pp,ee,ss]))\n",
    "    M.addGenConstrIndicator(B_PRODUCTION[pp,ee,ss],1,PRODUCTION[pp,ee,ss] ==0, name = \"eq_PRODUCTION2\"+\"_\".join([pp,ee,ss]))\n",
    "\n",
    "# eq_investment\n",
    "for pp,ee in itertools.product(data.producers,data.green):\n",
    "    eqn = data.LinInvCost[pp,ee] + data.QuadInvCost[pp,ee]*INVESTMENT[pp,ee] - quicksum(data.CapacityFactor[pp,ee,ss]*D_INFRALIMIT[pp,ee,ss] for ss in data.scenario)\n",
    "    M.addConstr(eqn >= 0,name = \"eq_INVESTMENT\"+\"_\".join([pp,ee]))\n",
    "    M.addGenConstrIndicator(B_INVESTMENT[pp,ee],0,eqn ==0, name = \"eq_INVESTMENT1\"+\"_\".join([pp,ee]))\n",
    "    M.addGenConstrIndicator(B_INVESTMENT[pp,ee],1,INVESTMENT[pp,ee] ==0, name = \"eq_INVESTMENT2\"+\"_\".join([pp,ee]))\n",
    "\n",
    "# eq_carbonPurchase\n",
    "for pp in data.producers:\n",
    "    cc = data.domesticity.select(\"*\", pp)[0][0]\n",
    "    M.addConstr(CARBON_PRICE[cc] -quicksum(D_EMITLIMIT[pp,ss] for ss in data.scenario) == 0, name = \"eq_carbonPurchase\"+pp\n",
    "               )\n",
    "\n",
    "\n",
    "# ### Leader Constraints \n",
    "#     Mininmum consumption constraint\n",
    "for cc in data.countries:\n",
    "    M.addConstrs((C_PROD[cc,ss] >= data.minCons[cc] for ss in data.scenario), name = \"data.minCons\"+cc) \n",
    "\n",
    "# Total data.Emission\n",
    "for ss in data.scenario:\n",
    "    eqn = {cc:0 for cc in data.countries}\n",
    "    for (cc,pp) in data.domesticity:\n",
    "        eqn[cc] = eqn[cc] + quicksum(data.Emission[ee]*PRODUCTION[pp,ee,ss] for ee in data.energy)\n",
    "    M.addConstrs((TOTAL_EMIT[cc,ss] - eqn[cc]==0 for cc in data.countries), name=\"Totaldata.Emission\"+str(ss))\n",
    "\n",
    "# Total data.Investment\n",
    "for ee in data.green:\n",
    "    eqn = {cc:0 for cc in data.countries}\n",
    "    for (cc,pp) in data.domesticity:\n",
    "        eqn[cc] = eqn[cc] + INVESTMENT[pp,ee] \n",
    "    M.addConstrs((TOTAL_INV[cc,ee] - eqn[cc]==0 for cc in data.countries), name=\"TotalInv\"+\"_\".join([cc,ee]))\n",
    "\n",
    "# Carbon Buy summing\n",
    "eqn = {cc:0 for cc in data.countries}\n",
    "for (cc,pp) in data.domesticity:\n",
    "    eqn[cc] = eqn[cc] + FOLL_CARB_BUY[pp] \n",
    "M.addConstrs((LEAD_CARB_BUY[cc] + eqn[cc] == 0 for cc in data.countries), name = \"CarbBuySum\")\n",
    "\n",
    "# Carbon Credits >= 0\n",
    "M.addConstrs((LEAD_CARB_BUY[cc] + data.InitLeaderCredits[cc] + CARB_IMP[cc]  >= 0 for cc in data.countries), \n",
    "             name = \"CarbCredPos\")\n",
    "\n",
    "# Market clearing goes away\n",
    "M.addConstr(quicksum(CARB_IMP[cc] for cc in data.countries) >= 0)\n",
    "\n",
    "M.update()\n"
   ]
  },
  {
   "cell_type": "code",
   "execution_count": 66,
   "metadata": {},
   "outputs": [],
   "source": [
    "# ### Leader Objective \n",
    "for cc in data.countries:\n",
    "    M.addConstr(\n",
    "       1000 * COUNTRY_OBJ[cc] == CARBON_PRICE[cc]*LEAD_CARB_BUY[cc] + # Buy credits from follower\n",
    "             (data.cciInt + data.cciSlope*quicksum(CARB_IMP[ccdash] for ccdash in data.countries) ) * CARB_IMP[cc] + # Buying carbon credits from international market\n",
    "               quicksum(data.probability[ss]*TOTAL_EMIT[cc,ss]*data.EmissionValue[cc] for ss in data.scenario)- # self emission\n",
    "                quicksum(TOTAL_INV[cc,ee]*data.InvestValue[cc,ee] for ee in data.green) +  # self investment\n",
    "                quicksum(data.probability[ss]*TOTAL_EMIT[cc,ss]*TOTAL_EMIT[c2c,ss]*data.EmissionCrossValue[cc]\n",
    "                         for c2c in data.countries for ss in data.scenario\n",
    "                        )- # Emission cross\n",
    "               quicksum(TOTAL_INV[cc,ee]*TOTAL_INV[c2c,ee]*data.InvestCrossValue[cc,ee] \n",
    "                        for ee in data.green for c2c in data.countries), # cross investment    ,\n",
    "        name = \"eq_countryObj\"+cc)\n",
    "\n",
    "activeCountry = {cc:1 for cc in data.countries}\n",
    "M.setObjective(quicksum(activeCountry[cc]*COUNTRY_OBJ[cc] for cc in data.countries))"
   ]
  },
  {
   "cell_type": "code",
   "execution_count": 67,
   "metadata": {},
   "outputs": [
    {
     "name": "stdout",
     "output_type": "stream",
     "text": [
      "Changed value of parameter NonConvex to 2\n",
      "   Prev: -1  Min: -1  Max: 2  Default: -1\n",
      "Changed value of parameter Presolve to 2\n",
      "   Prev: -1  Min: -1  Max: 2  Default: -1\n",
      "Changed value of parameter CutPasses to 1\n",
      "   Prev: -1  Min: -1  Max: 2000000000  Default: -1\n",
      "Changed value of parameter PreQLinearize to 1\n",
      "   Prev: -1  Min: -1  Max: 2  Default: -1\n"
     ]
    }
   ],
   "source": [
    "M.Params.NonConvex=2\n",
    "M.Params.Presolve = 2\n",
    "M.Params.CutPasses = 1\n",
    "M.Params.PreQLinearize = 1\n",
    "M.update()"
   ]
  },
  {
   "cell_type": "code",
   "execution_count": 68,
   "metadata": {},
   "outputs": [
    {
     "name": "stdout",
     "output_type": "stream",
     "text": [
      "Gurobi Optimizer version 9.0.1 build v9.0.1rc0 (linux64)\n",
      "Optimize a model with 105 rows, 204 columns and 416 nonzeros\n",
      "Model fingerprint: 0x1b7e9075\n",
      "Model has 2 quadratic constraints\n",
      "Model has 160 general constraints\n",
      "Variable types: 116 continuous, 88 integer (88 binary)\n",
      "Coefficient statistics:\n",
      "  Matrix range     [1e-01, 4e+00]\n",
      "  QMatrix range    [1e+00, 1e+01]\n",
      "  QLMatrix range   [5e+01, 1e+03]\n",
      "  Objective range  [1e+00, 1e+00]\n",
      "  Bounds range     [1e+00, 1e+04]\n",
      "  RHS range        [6e-01, 5e+02]\n",
      "Warning for adding constraints: zero or small (< 1e-13) coefficients, ignored\n",
      "Presolve added 74 rows and 36 columns\n",
      "Presolve time: 0.01s\n",
      "Presolved: 239 rows, 258 columns, 767 nonzeros\n",
      "Presolved model has 58 SOS constraint(s)\n",
      "Presolved model has 17 bilinear constraint(s)\n",
      "Variable types: 176 continuous, 82 integer (82 binary)\n",
      "Presolve removed 133 rows and 134 columns\n",
      "Presolved: 106 rows, 124 columns, 444 nonzeros\n",
      "\n",
      "Extra 70 simplex iterations after uncrush\n",
      "\n",
      "Root relaxation: objective -2.000000e+04, 135 iterations, 0.01 seconds\n",
      "\n",
      "    Nodes    |    Current Node    |     Objective Bounds      |     Work\n",
      " Expl Unexpl |  Obj  Depth IntInf | Incumbent    BestBd   Gap | It/Node Time\n",
      "\n",
      "     0     0 -20000.000    0   47          - -20000.000      -     -    0s\n",
      "     0     0 -20000.000    0   48          - -20000.000      -     -    0s\n",
      "     0     2 -20000.000    0   48          - -20000.000      -     -    0s\n",
      "* 4794   261              73    2700.2442532 -20000.000   841%  13.5    2s\n",
      "* 5836   193             121    -2243.303328 -20000.000   792%  12.6    3s\n",
      "* 6120   234             120    -2244.902023 -20000.000   791%  12.3    3s\n",
      "* 7268   254              95    -2258.614025 -20000.000   785%  11.8    4s\n",
      "* 7722   262              84    -2259.559862 -20000.000   785%  11.6    4s\n",
      "* 8096   305              97    -2260.145509 -20000.000   785%  11.4    4s\n",
      "* 8292   325              69    -2260.146216 -20000.000   785%  11.2    4s\n",
      "* 8475   325              80    -2260.148053 -20000.000   785%  11.0    4s\n",
      "  8771   292 -20000.000   33   28 -2260.1481 -20000.000   785%  10.9    5s\n",
      "*14323   271             116    -2620.072094 -20000.000   663%   9.9    7s\n",
      "*14787   251             115    -2703.959686 -20000.000   640%   9.8    7s\n",
      "*15598   279              89    -2784.395733 -20000.000   618%   9.7    8s\n",
      "*15982   488             152    -2784.506734 -20000.000   618%   9.6    8s\n",
      "*16435   487              99    -2801.182391 -20000.000   614%   9.5    8s\n",
      "*16585   479              96    -2804.279762 -20000.000   613%   9.4    8s\n",
      "*16844   454             118    -2805.567373 -20000.000   613%   9.4    8s\n",
      "*18985   304              77    -6463.838454 -20000.000   209%   9.2    9s\n",
      " 20129   627 -6463.8385   68    5 -6463.8385 -20000.000   209%   9.0   10s\n",
      " 31449  2264     cutoff   48      -6463.8385 -20000.000   209%   7.9   15s\n",
      " 43652  6914 -6463.8385   73    5 -6463.8385 -6522.1529  0.90%   6.0   20s\n",
      " 56511 11726 -6463.8385   72    3 -6463.8385 -6480.3124  0.25%   4.8   25s\n",
      " 68834 16464 -6463.8385   67    3 -6463.8385 -6470.1705  0.10%   4.0   30s\n",
      " 81809 21118 -6463.8387   66    4 -6463.8385 -6467.1514  0.05%   3.5   35s\n",
      " 95360 25697 -6464.3717   66    5 -6463.8385 -6465.8719  0.03%   3.1   40s\n",
      " 109372 30609 -6464.6008   60    4 -6463.8385 -6465.3070  0.02%   2.8   45s\n",
      " 122767 35255 -6463.8385   70    3 -6463.8385 -6464.8683  0.02%   2.6   50s\n",
      "\n",
      "Cutting planes:\n",
      "  Implied bound: 1\n",
      "  MIR: 3\n",
      "  Flow cover: 1\n",
      "  Inf proof: 1\n",
      "  RLT: 5\n",
      "\n",
      "Explored 127674 nodes (317931 simplex iterations) in 51.62 seconds\n",
      "Thread count was 4 (of 4 available processors)\n",
      "\n",
      "Solution count 10: -6463.84 -2805.57 -2804.28 ... -2260.15\n",
      "\n",
      "Solve interrupted\n",
      "Warning: max constraint violation (3.7950e-06) exceeds tolerance\n",
      "Best objective -6.463838454019e+03, best bound -6.464754557695e+03, gap 0.0142%\n"
     ]
    }
   ],
   "source": [
    "M.optimize()"
   ]
  },
  {
   "cell_type": "code",
   "execution_count": 73,
   "metadata": {
    "scrolled": true
   },
   "outputs": [
    {
     "data": {
      "text/plain": [
       "{'c1': <gurobi.Var CARB_IMP[c1] (value -240.235580718085)>, 'c2': <gurobi.Var CARB_IMP[c2] (value 240.23558072265416)>}"
      ]
     },
     "execution_count": 73,
     "metadata": {},
     "output_type": "execute_result"
    }
   ],
   "source": [
    "CARB_IMP"
   ]
  },
  {
   "cell_type": "code",
   "execution_count": 70,
   "metadata": {},
   "outputs": [
    {
     "data": {
      "text/plain": [
       "{'c1': <gurobi.Var LEAD_CARB_BUY[c1] (value 250.0)>, 'c2': <gurobi.Var LEAD_CARB_BUY[c2] (value 175.0)>}"
      ]
     },
     "execution_count": 70,
     "metadata": {},
     "output_type": "execute_result"
    }
   ],
   "source": [
    "LEAD_CARB_BUY"
   ]
  },
  {
   "cell_type": "code",
   "execution_count": 71,
   "metadata": {},
   "outputs": [
    {
     "data": {
      "text/plain": [
       "{'c1': <gurobi.Var CARB_PRI[c1] (value 742.0611533029726)>, 'c2': <gurobi.Var CARB_PRI[c2] (value 748.7108638162026)>}"
      ]
     },
     "execution_count": 71,
     "metadata": {},
     "output_type": "execute_result"
    }
   ],
   "source": [
    "CARBON_PRICE"
   ]
  },
  {
   "cell_type": "code",
   "execution_count": 72,
   "metadata": {},
   "outputs": [
    {
     "name": "stdout",
     "output_type": "stream",
     "text": [
      "('p1_1', 'coal') \t\t 0.0\n",
      "('p1_1', 'gas') \t\t 0.0\n",
      "('p1_1', 'wind') \t\t 196.3602521607151\n",
      "('p1_1', 'solar') \t\t 57.70476036424583\n",
      "('p1_2', 'coal') \t\t 0.0\n",
      "('p1_2', 'gas') \t\t 0.0\n",
      "('p1_2', 'wind') \t\t 196.36025216071513\n",
      "('p1_2', 'solar') \t\t 57.70476036424584\n",
      "('p2_1', 'coal') \t\t 0.0\n",
      "('p2_1', 'gas') \t\t 0.0\n",
      "('p2_1', 'wind') \t\t 195.67960852324455\n",
      "('p2_1', 'solar') \t\t 66.14678542545784\n",
      "('p2_2', 'coal') \t\t 0.0\n",
      "('p2_2', 'gas') \t\t 0.0\n",
      "('p2_2', 'wind') \t\t 195.67960852324447\n",
      "('p2_2', 'solar') \t\t 66.14678542545785\n"
     ]
    }
   ],
   "source": [
    "for kk in INVESTMENT:\n",
    "    print(kk, \"\\t\\t\", INVESTMENT[kk].X)"
   ]
  }
 ],
 "metadata": {
  "kernelspec": {
   "display_name": "Python 3",
   "language": "python",
   "name": "python3"
  },
  "language_info": {
   "codemirror_mode": {
    "name": "ipython",
    "version": 3
   },
   "file_extension": ".py",
   "mimetype": "text/x-python",
   "name": "python",
   "nbconvert_exporter": "python",
   "pygments_lexer": "ipython3",
   "version": "3.7.4"
  }
 },
 "nbformat": 4,
 "nbformat_minor": 2
}
